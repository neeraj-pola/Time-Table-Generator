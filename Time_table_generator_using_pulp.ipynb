{
  "nbformat": 4,
  "nbformat_minor": 0,
  "metadata": {
    "colab": {
      "provenance": [],
      "include_colab_link": true
    },
    "kernelspec": {
      "name": "python3",
      "display_name": "Python 3"
    },
    "language_info": {
      "name": "python"
    }
  },
  "cells": [
    {
      "cell_type": "markdown",
      "metadata": {
        "id": "view-in-github",
        "colab_type": "text"
      },
      "source": [
        "<a href=\"https://colab.research.google.com/github/neeraj-pola/Time-Table-Generator/blob/main/Time_table_generator_using_pulp.ipynb\" target=\"_parent\"><img src=\"https://colab.research.google.com/assets/colab-badge.svg\" alt=\"Open In Colab\"/></a>"
      ]
    },
    {
      "cell_type": "code",
      "source": [
        "!pip install PuLP"
      ],
      "metadata": {
        "id": "v23BCUUvHkIF",
        "colab": {
          "base_uri": "https://localhost:8080/"
        },
        "outputId": "5b00ab8c-49d1-4aa8-fc26-f2d438dee518"
      },
      "execution_count": 1,
      "outputs": [
        {
          "output_type": "stream",
          "name": "stdout",
          "text": [
            "Collecting PuLP\n",
            "  Downloading PuLP-2.8.0-py3-none-any.whl (17.7 MB)\n",
            "\u001b[2K     \u001b[90m━━━━━━━━━━━━━━━━━━━━━━━━━━━━━━━━━━━━━━━━\u001b[0m \u001b[32m17.7/17.7 MB\u001b[0m \u001b[31m22.7 MB/s\u001b[0m eta \u001b[36m0:00:00\u001b[0m\n",
            "\u001b[?25hInstalling collected packages: PuLP\n",
            "Successfully installed PuLP-2.8.0\n"
          ]
        }
      ]
    },
    {
      "cell_type": "code",
      "execution_count": 2,
      "metadata": {
        "id": "esCMX2NxHewx"
      },
      "outputs": [],
      "source": [
        "import pulp"
      ]
    },
    {
      "cell_type": "code",
      "source": [
        "# Define parameters\n",
        "faculties = [\"FacultyA\", \"FacultyB\", \"FacultyC\", \"FacultyD\"]\n",
        "subjects = [\"Math\", \"Science\", \"History\", \"Telugu\"]\n",
        "classes = [\"ClassX\", \"ClassY\"]\n",
        "days = [\"Monday\", \"Tuesday\", \"Wednesday\", \"Thursday\", \"Friday\", \"Saturday\"]\n",
        "periods_per_day = [1, 2, 3, 4, 5]"
      ],
      "metadata": {
        "id": "An_ftdDlHha4"
      },
      "execution_count": 3,
      "outputs": []
    },
    {
      "cell_type": "code",
      "source": [
        "# Define a custom order for days\n",
        "custom_day_order = {\"Monday\": 1, \"Tuesday\": 2, \"Wednesday\": 3, \"Thursday\": 4, \"Friday\": 5, \"Saturday\": 6}\n",
        "sorted_days = sorted(days, key=lambda day: custom_day_order[day])\n"
      ],
      "metadata": {
        "id": "bK9Wz2mMN2GC"
      },
      "execution_count": 4,
      "outputs": []
    },
    {
      "cell_type": "code",
      "source": [
        "# Define a dictionary to specify faculty-subject qualifications\n",
        "faculty_subject_qualifications = {\n",
        "    \"FacultyA\": [\"Math\", \"Science\"],\n",
        "    \"FacultyB\": [\"Science\", \"History\"],\n",
        "    \"FacultyC\": [\"Math\", \"History\"],\n",
        "    \"FacultyD\": [\"Telugu\"]\n",
        "}"
      ],
      "metadata": {
        "id": "VWIfPKIWGk3h"
      },
      "execution_count": 5,
      "outputs": []
    },
    {
      "cell_type": "code",
      "source": [
        "# Define a dictionary to specify which subjects each faculty teaches for each class\n",
        "faculty_class_subjects = {\n",
        "    \"FacultyA\": {\"ClassX\": [\"Math\"], \"ClassY\": [\"Math\"]},\n",
        "    \"FacultyB\": {\"ClassX\": [\"Science\"], \"ClassY\": [\"History\"]},\n",
        "    \"FacultyC\": {\"ClassX\": [\"History\"], \"ClassY\": [\"Science\"]},\n",
        "    \"FacultyD\": {\"ClassX\": [\"Telugu\"], \"ClassY\": [\"Telugu\"]}\n",
        "}"
      ],
      "metadata": {
        "id": "7g9aCgdzXIFS"
      },
      "execution_count": 6,
      "outputs": []
    },
    {
      "cell_type": "code",
      "source": [
        "# Create a PuLP optimization problem\n",
        "problem = pulp.LpProblem(\"Timetable_Generator\", pulp.LpMinimize)"
      ],
      "metadata": {
        "id": "shiw9TPfHjJf"
      },
      "execution_count": 7,
      "outputs": []
    },
    {
      "cell_type": "code",
      "source": [
        "# Decision variables\n",
        "x = pulp.LpVariable.dicts(\"Assign\", ((i, j, k, day, period) for i in faculties for j in subjects for k in classes for day in sorted_days for period in periods_per_day), cat=\"Binary\")\n"
      ],
      "metadata": {
        "id": "7LUHAoX2KbQR"
      },
      "execution_count": 8,
      "outputs": []
    },
    {
      "cell_type": "markdown",
      "source": [
        "#Constraints"
      ],
      "metadata": {
        "id": "cjhUVjsHVFy1"
      }
    },
    {
      "cell_type": "markdown",
      "source": [
        "##Each subject should be taught by exactly one faculty during each period\n",
        "###x[i,j,k,l] is a binary decision that indicates whether faculty i teaches subject j for class k in period l\n",
        "###i -> faculty index\n",
        "###j -> subject index\n",
        "###k-> class index\n",
        "###l -> period index\n",
        "###summation(i,k) gives all the possible combinations of faculties and the classes for given subject j in l\n"
      ],
      "metadata": {
        "id": "nQAxmrBDVJck"
      }
    },
    {
      "cell_type": "code",
      "source": [
        "# Constraint: Each subject is assigned to exactly one class during each period on each day\n",
        "for j in subjects:\n",
        "    for day in sorted_days:\n",
        "        for period in periods_per_day:\n",
        "            problem += pulp.lpSum(x[i, j, k, day, period] for i in faculties for k in classes) == 1\n"
      ],
      "metadata": {
        "id": "Qd2xpGsMVEnv"
      },
      "execution_count": 9,
      "outputs": []
    },
    {
      "cell_type": "code",
      "source": [
        "# Constraint: Faculties can only teach subjects they are qualified for\n",
        "for i in faculties:\n",
        "    for j in subjects:\n",
        "        for k in classes:\n",
        "            for day in sorted_days:\n",
        "                for period in periods_per_day:\n",
        "                    if j not in faculty_subject_qualifications[i]:\n",
        "                        problem += x[i, j, k, day, period] == 0\n"
      ],
      "metadata": {
        "id": "w2sthxGdGuFl"
      },
      "execution_count": 10,
      "outputs": []
    },
    {
      "cell_type": "code",
      "source": [
        "# Constraint: Assign each subject for a class to a specific faculty based on faculty_class_subjects\n",
        "for k in classes:\n",
        "    for j in subjects:\n",
        "        for day in sorted_days:\n",
        "            for period in periods_per_day:\n",
        "                assigned_faculty = None\n",
        "                for faculty, class_subjects in faculty_class_subjects.items():\n",
        "                    if k in class_subjects and j in class_subjects[k]:\n",
        "                        assigned_faculty = faculty\n",
        "                        break\n",
        "                if assigned_faculty and i != assigned_faculty:\n",
        "                    problem += x[i, j, k, day, period] == 0\n"
      ],
      "metadata": {
        "id": "PJxcxnCxXdR1"
      },
      "execution_count": 11,
      "outputs": []
    },
    {
      "cell_type": "markdown",
      "source": [
        "#objective function\n",
        "\n",
        "### x[i,j,k,l] == 1 if faculty i teaches subject j to class k at period l else 0\n",
        " Example:\\\n",
        "   consider we have three periods,1,2,3 with 2 classes x,y and two subjects a and b\\\n",
        "   if subject a is assigned to period 1 and subject b is assigned to period 3 then:\\\n",
        "     **case 1**:objective = (1x1) + (0x2) + (1x3) = 4\\\n",
        "   the other case around is assigning subject a to period 1 and subject b to period b then:\\\n",
        "     **case 2**: objective = (1x1) + (1x2) + (0x3) = 3\\\n",
        "   both cases are feasible but the in second case the subjects are more evenly spread to the classes"
      ],
      "metadata": {
        "id": "crxNO2QdTHIL"
      }
    },
    {
      "cell_type": "code",
      "source": [
        "# Objective Function: Prioritize faculty-subject assignments while minimizing gaps\n",
        "objective = pulp.lpSum(x[i, j, k, day, period] * 5 for i in faculties for j in subjects for k in classes for day in sorted_days for period in periods_per_day) - pulp.lpSum(x[i, j, k, day, period] * (periods_per_day.index(period) + 1) for i in faculties for j in subjects for k in classes for day in sorted_days for period in periods_per_day)\n",
        "problem += objective"
      ],
      "metadata": {
        "id": "2vCdXCexIL1Z"
      },
      "execution_count": 12,
      "outputs": []
    },
    {
      "cell_type": "code",
      "source": [
        "# Solve the problem\n",
        "problem.solve()"
      ],
      "metadata": {
        "id": "MWyxuPK0Ks_K",
        "colab": {
          "base_uri": "https://localhost:8080/"
        },
        "outputId": "6ca51c52-bc0d-462e-81a7-a5e80c5bb7ea"
      },
      "execution_count": 13,
      "outputs": [
        {
          "output_type": "execute_result",
          "data": {
            "text/plain": [
              "1"
            ]
          },
          "metadata": {},
          "execution_count": 13
        }
      ]
    },
    {
      "cell_type": "code",
      "source": [
        "timetables = {}"
      ],
      "metadata": {
        "id": "bO9MkSwqR3Ac"
      },
      "execution_count": 14,
      "outputs": []
    },
    {
      "cell_type": "code",
      "source": [
        "import random"
      ],
      "metadata": {
        "id": "MaUodbb7BpW0"
      },
      "execution_count": 15,
      "outputs": []
    },
    {
      "cell_type": "code",
      "source": [
        "if pulp.LpStatus[problem.status] == \"Optimal\":\n",
        "    # Extract assignment from the solution to generate the timetable\n",
        "    timetable = {}\n",
        "\n",
        "    for (i, j, k, day, period), var in x.items():\n",
        "        if var.varValue == 1:\n",
        "            if k not in timetable:\n",
        "                timetable[k] = {day: {period: [] for period in periods_per_day} for day in sorted_days}\n",
        "            timetable[k][day][period].append((i, j))\n",
        "\n",
        "    # Save the weekly timetable for each class\n",
        "    for class_name, class_data in timetable.items():\n",
        "        class_timetable = {}\n",
        "        for day in sorted_days:\n",
        "            day_timetable = {}\n",
        "            for period, assignments in class_data[day].items():\n",
        "                if assignments:\n",
        "                    day_timetable[period] = assignments\n",
        "            if day_timetable:\n",
        "                class_timetable[day] = day_timetable\n",
        "        timetables[class_name] = class_timetable\n",
        "\n",
        "else:\n",
        "    print(\"No optimal solution found.\")"
      ],
      "metadata": {
        "id": "fXx-U8wwA-Y4"
      },
      "execution_count": 16,
      "outputs": []
    },
    {
      "cell_type": "code",
      "source": [
        "timetables"
      ],
      "metadata": {
        "colab": {
          "base_uri": "https://localhost:8080/"
        },
        "id": "dHQyeXmikjSr",
        "outputId": "aa14ea68-7434-4412-c52d-4dafdc8c7520"
      },
      "execution_count": 17,
      "outputs": [
        {
          "output_type": "execute_result",
          "data": {
            "text/plain": [
              "{'ClassX': {'Monday': {1: [('FacultyB', 'Science')],\n",
              "   2: [('FacultyB', 'Science'), ('FacultyD', 'Telugu')],\n",
              "   3: [('FacultyB', 'Science'),\n",
              "    ('FacultyC', 'History'),\n",
              "    ('FacultyD', 'Telugu')],\n",
              "   4: [('FacultyA', 'Math'), ('FacultyB', 'Science')],\n",
              "   5: [('FacultyA', 'Math'), ('FacultyD', 'Telugu')]},\n",
              "  'Tuesday': {1: [('FacultyB', 'Science'), ('FacultyD', 'Telugu')],\n",
              "   2: [('FacultyA', 'Math')],\n",
              "   3: [('FacultyA', 'Math'), ('FacultyB', 'Science')],\n",
              "   4: [('FacultyC', 'History'), ('FacultyD', 'Telugu')],\n",
              "   5: [('FacultyB', 'Science'),\n",
              "    ('FacultyB', 'History'),\n",
              "    ('FacultyC', 'Math')]},\n",
              "  'Wednesday': {1: [('FacultyA', 'Math'),\n",
              "    ('FacultyA', 'Science'),\n",
              "    ('FacultyD', 'Telugu')],\n",
              "   2: [('FacultyA', 'Science'), ('FacultyC', 'History')],\n",
              "   3: [('FacultyC', 'History')],\n",
              "   4: [('FacultyB', 'History'), ('FacultyD', 'Telugu')],\n",
              "   5: [('FacultyA', 'Math'),\n",
              "    ('FacultyB', 'Science'),\n",
              "    ('FacultyC', 'History')]},\n",
              "  'Thursday': {1: [('FacultyB', 'Science'),\n",
              "    ('FacultyB', 'History'),\n",
              "    ('FacultyC', 'Math')],\n",
              "   2: [('FacultyC', 'History'), ('FacultyD', 'Telugu')],\n",
              "   3: [('FacultyB', 'Science'), ('FacultyC', 'Math')],\n",
              "   4: [('FacultyA', 'Math')],\n",
              "   5: [('FacultyB', 'Science'), ('FacultyC', 'History')]},\n",
              "  'Friday': {1: [('FacultyA', 'Math'),\n",
              "    ('FacultyA', 'Science'),\n",
              "    ('FacultyD', 'Telugu')],\n",
              "   2: [('FacultyA', 'Math'), ('FacultyA', 'Science'), ('FacultyB', 'History')],\n",
              "   3: [('FacultyA', 'Math')],\n",
              "   4: [('FacultyC', 'Math'), ('FacultyD', 'Telugu')],\n",
              "   5: [('FacultyA', 'Math'), ('FacultyB', 'Science')]},\n",
              "  'Saturday': {1: [('FacultyA', 'Math')],\n",
              "   2: [('FacultyA', 'Science'), ('FacultyC', 'Math'), ('FacultyC', 'History')],\n",
              "   3: [('FacultyA', 'Science'), ('FacultyC', 'History')],\n",
              "   4: [('FacultyA', 'Science'), ('FacultyC', 'Math'), ('FacultyD', 'Telugu')],\n",
              "   5: [('FacultyB', 'Science'), ('FacultyC', 'Math')]}},\n",
              " 'ClassY': {'Monday': {1: [('FacultyA', 'Math'),\n",
              "    ('FacultyC', 'History'),\n",
              "    ('FacultyD', 'Telugu')],\n",
              "   2: [('FacultyB', 'History'), ('FacultyC', 'Math')],\n",
              "   3: [('FacultyA', 'Math')],\n",
              "   4: [('FacultyC', 'History'), ('FacultyD', 'Telugu')],\n",
              "   5: [('FacultyB', 'Science'), ('FacultyC', 'History')]},\n",
              "  'Tuesday': {1: [('FacultyA', 'Math'), ('FacultyC', 'History')],\n",
              "   2: [('FacultyA', 'Science'),\n",
              "    ('FacultyC', 'History'),\n",
              "    ('FacultyD', 'Telugu')],\n",
              "   3: [('FacultyC', 'History'), ('FacultyD', 'Telugu')],\n",
              "   4: [('FacultyA', 'Science'), ('FacultyC', 'Math')],\n",
              "   5: [('FacultyD', 'Telugu')]},\n",
              "  'Wednesday': {1: [('FacultyB', 'History')],\n",
              "   2: [('FacultyC', 'Math'), ('FacultyD', 'Telugu')],\n",
              "   3: [('FacultyB', 'Science'), ('FacultyC', 'Math'), ('FacultyD', 'Telugu')],\n",
              "   4: [('FacultyA', 'Math'), ('FacultyB', 'Science')],\n",
              "   5: [('FacultyD', 'Telugu')]},\n",
              "  'Thursday': {1: [('FacultyD', 'Telugu')],\n",
              "   2: [('FacultyB', 'Science'), ('FacultyC', 'Math')],\n",
              "   3: [('FacultyC', 'History'), ('FacultyD', 'Telugu')],\n",
              "   4: [('FacultyA', 'Science'),\n",
              "    ('FacultyC', 'History'),\n",
              "    ('FacultyD', 'Telugu')],\n",
              "   5: [('FacultyC', 'Math'), ('FacultyD', 'Telugu')]},\n",
              "  'Friday': {1: [('FacultyC', 'History')],\n",
              "   2: [('FacultyD', 'Telugu')],\n",
              "   3: [('FacultyA', 'Science'),\n",
              "    ('FacultyB', 'History'),\n",
              "    ('FacultyD', 'Telugu')],\n",
              "   4: [('FacultyA', 'Science'), ('FacultyB', 'History')],\n",
              "   5: [('FacultyC', 'History'), ('FacultyD', 'Telugu')]},\n",
              "  'Saturday': {1: [('FacultyA', 'Science'),\n",
              "    ('FacultyB', 'History'),\n",
              "    ('FacultyD', 'Telugu')],\n",
              "   2: [('FacultyD', 'Telugu')],\n",
              "   3: [('FacultyA', 'Math'), ('FacultyD', 'Telugu')],\n",
              "   4: [('FacultyB', 'History')],\n",
              "   5: [('FacultyB', 'History'), ('FacultyD', 'Telugu')]}}}"
            ]
          },
          "metadata": {},
          "execution_count": 17
        }
      ]
    },
    {
      "cell_type": "code",
      "source": [
        "len(timetables['ClassX']['Monday'][1])"
      ],
      "metadata": {
        "colab": {
          "base_uri": "https://localhost:8080/"
        },
        "id": "BxbeyVRhlb1h",
        "outputId": "25a8c9af-f0b1-434b-9e04-cde5e1a71feb"
      },
      "execution_count": 18,
      "outputs": [
        {
          "output_type": "execute_result",
          "data": {
            "text/plain": [
              "1"
            ]
          },
          "metadata": {},
          "execution_count": 18
        }
      ]
    },
    {
      "cell_type": "code",
      "source": [
        "classes"
      ],
      "metadata": {
        "colab": {
          "base_uri": "https://localhost:8080/"
        },
        "id": "9Wg62Nuvv4wr",
        "outputId": "2dc2af8e-9b11-483a-f742-63fbed4d57bb"
      },
      "execution_count": 19,
      "outputs": [
        {
          "output_type": "execute_result",
          "data": {
            "text/plain": [
              "['ClassX', 'ClassY']"
            ]
          },
          "metadata": {},
          "execution_count": 19
        }
      ]
    },
    {
      "cell_type": "code",
      "source": [
        "timetables"
      ],
      "metadata": {
        "id": "Rp-oa4S1gJS3",
        "outputId": "1c3afc3b-0469-4698-83ab-9dbd64df7712",
        "colab": {
          "base_uri": "https://localhost:8080/"
        }
      },
      "execution_count": 21,
      "outputs": [
        {
          "output_type": "execute_result",
          "data": {
            "text/plain": [
              "{'ClassX': {'Monday': {1: [('FacultyB', 'Science')],\n",
              "   2: [('FacultyB', 'Science'), ('FacultyD', 'Telugu')],\n",
              "   3: [('FacultyB', 'Science'),\n",
              "    ('FacultyC', 'History'),\n",
              "    ('FacultyD', 'Telugu')],\n",
              "   4: [('FacultyA', 'Math'), ('FacultyB', 'Science')],\n",
              "   5: [('FacultyA', 'Math'), ('FacultyD', 'Telugu')]},\n",
              "  'Tuesday': {1: [('FacultyB', 'Science'), ('FacultyD', 'Telugu')],\n",
              "   2: [('FacultyA', 'Math')],\n",
              "   3: [('FacultyA', 'Math'), ('FacultyB', 'Science')],\n",
              "   4: [('FacultyC', 'History'), ('FacultyD', 'Telugu')],\n",
              "   5: [('FacultyB', 'Science'),\n",
              "    ('FacultyB', 'History'),\n",
              "    ('FacultyC', 'Math')]},\n",
              "  'Wednesday': {1: [('FacultyA', 'Math'),\n",
              "    ('FacultyA', 'Science'),\n",
              "    ('FacultyD', 'Telugu')],\n",
              "   2: [('FacultyA', 'Science'), ('FacultyC', 'History')],\n",
              "   3: [('FacultyC', 'History')],\n",
              "   4: [('FacultyB', 'History'), ('FacultyD', 'Telugu')],\n",
              "   5: [('FacultyA', 'Math'),\n",
              "    ('FacultyB', 'Science'),\n",
              "    ('FacultyC', 'History')]},\n",
              "  'Thursday': {1: [('FacultyB', 'Science'),\n",
              "    ('FacultyB', 'History'),\n",
              "    ('FacultyC', 'Math')],\n",
              "   2: [('FacultyC', 'History'), ('FacultyD', 'Telugu')],\n",
              "   3: [('FacultyB', 'Science'), ('FacultyC', 'Math')],\n",
              "   4: [('FacultyA', 'Math')],\n",
              "   5: [('FacultyB', 'Science'), ('FacultyC', 'History')]},\n",
              "  'Friday': {1: [('FacultyA', 'Math'),\n",
              "    ('FacultyA', 'Science'),\n",
              "    ('FacultyD', 'Telugu')],\n",
              "   2: [('FacultyA', 'Math'), ('FacultyA', 'Science'), ('FacultyB', 'History')],\n",
              "   3: [('FacultyA', 'Math')],\n",
              "   4: [('FacultyC', 'Math'), ('FacultyD', 'Telugu')],\n",
              "   5: [('FacultyA', 'Math'), ('FacultyB', 'Science')]},\n",
              "  'Saturday': {1: [('FacultyA', 'Math')],\n",
              "   2: [('FacultyA', 'Science'), ('FacultyC', 'Math'), ('FacultyC', 'History')],\n",
              "   3: [('FacultyA', 'Science'), ('FacultyC', 'History')],\n",
              "   4: [('FacultyA', 'Science'), ('FacultyC', 'Math'), ('FacultyD', 'Telugu')],\n",
              "   5: [('FacultyB', 'Science'), ('FacultyC', 'Math')]}},\n",
              " 'ClassY': {'Monday': {1: [('FacultyA', 'Math'),\n",
              "    ('FacultyC', 'History'),\n",
              "    ('FacultyD', 'Telugu')],\n",
              "   2: [('FacultyB', 'History'), ('FacultyC', 'Math')],\n",
              "   3: [('FacultyA', 'Math')],\n",
              "   4: [('FacultyC', 'History'), ('FacultyD', 'Telugu')],\n",
              "   5: [('FacultyB', 'Science'), ('FacultyC', 'History')]},\n",
              "  'Tuesday': {1: [('FacultyA', 'Math'), ('FacultyC', 'History')],\n",
              "   2: [('FacultyA', 'Science'),\n",
              "    ('FacultyC', 'History'),\n",
              "    ('FacultyD', 'Telugu')],\n",
              "   3: [('FacultyC', 'History'), ('FacultyD', 'Telugu')],\n",
              "   4: [('FacultyA', 'Science'), ('FacultyC', 'Math')],\n",
              "   5: [('FacultyD', 'Telugu')]},\n",
              "  'Wednesday': {1: [('FacultyB', 'History')],\n",
              "   2: [('FacultyC', 'Math'), ('FacultyD', 'Telugu')],\n",
              "   3: [('FacultyB', 'Science'), ('FacultyC', 'Math'), ('FacultyD', 'Telugu')],\n",
              "   4: [('FacultyA', 'Math'), ('FacultyB', 'Science')],\n",
              "   5: [('FacultyD', 'Telugu')]},\n",
              "  'Thursday': {1: [('FacultyD', 'Telugu')],\n",
              "   2: [('FacultyB', 'Science'), ('FacultyC', 'Math')],\n",
              "   3: [('FacultyC', 'History'), ('FacultyD', 'Telugu')],\n",
              "   4: [('FacultyA', 'Science'),\n",
              "    ('FacultyC', 'History'),\n",
              "    ('FacultyD', 'Telugu')],\n",
              "   5: [('FacultyC', 'Math'), ('FacultyD', 'Telugu')]},\n",
              "  'Friday': {1: [('FacultyC', 'History')],\n",
              "   2: [('FacultyD', 'Telugu')],\n",
              "   3: [('FacultyA', 'Science'),\n",
              "    ('FacultyB', 'History'),\n",
              "    ('FacultyD', 'Telugu')],\n",
              "   4: [('FacultyA', 'Science'), ('FacultyB', 'History')],\n",
              "   5: [('FacultyC', 'History'), ('FacultyD', 'Telugu')]},\n",
              "  'Saturday': {1: [('FacultyA', 'Science'),\n",
              "    ('FacultyB', 'History'),\n",
              "    ('FacultyD', 'Telugu')],\n",
              "   2: [('FacultyD', 'Telugu')],\n",
              "   3: [('FacultyA', 'Math'), ('FacultyD', 'Telugu')],\n",
              "   4: [('FacultyB', 'History')],\n",
              "   5: [('FacultyB', 'History'), ('FacultyD', 'Telugu')]}}}"
            ]
          },
          "metadata": {},
          "execution_count": 21
        }
      ]
    }
  ]
}